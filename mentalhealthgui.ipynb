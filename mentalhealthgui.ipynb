{
 "cells": [
  {
   "cell_type": "code",
   "execution_count": 1,
   "metadata": {},
   "outputs": [],
   "source": [
    "import gradio as gr\n",
    "import pickle\n",
    "import pandas as pd\n",
    "from dataprep.clean import clean_text"
   ]
  },
  {
   "cell_type": "code",
   "execution_count": 7,
   "metadata": {},
   "outputs": [
    {
     "name": "stdout",
     "output_type": "stream",
     "text": [
      "Running on local URL:  http://127.0.0.1:7865\n",
      "\n",
      "To create a public link, set `share=True` in `launch()`.\n"
     ]
    },
    {
     "data": {
      "text/html": [
       "<div><iframe src=\"http://127.0.0.1:7865/\" width=\"100%\" height=\"500\" allow=\"autoplay; camera; microphone; clipboard-read; clipboard-write;\" frameborder=\"0\" allowfullscreen></iframe></div>"
      ],
      "text/plain": [
       "<IPython.core.display.HTML object>"
      ]
     },
     "metadata": {},
     "output_type": "display_data"
    },
    {
     "data": {
      "text/plain": []
     },
     "execution_count": 7,
     "metadata": {},
     "output_type": "execute_result"
    }
   ],
   "source": [
    "def checkhealth(input):\n",
    "    classes=[\"Healthy\",\"Not Healthy\"]\n",
    "    model=pickle.load(open(\"mentalmodel\",\"rb\"))\n",
    "    model=pickle.load(open(\"mentalmodel\",\"rb\"))\n",
    "    df=pd.DataFrame({\"text\":[input]})\n",
    "    df = clean_text(df,\"text\")\n",
    "    vectorizer = pickle.load(open(\"vectorizer\",\"rb\"))\n",
    "    df=df[\"text\"].values\n",
    "    df = vectorizer.transform(df)\n",
    "    return classes[model.predict(df)[0]]\n",
    "\n",
    "sample=[\"physics exam got cancelled hell yeah dont need study anymore \",\"first day  want die everthats it thats post want fucking die\",\n",
    "        \"one cares drank water today\",\"im arguing im explaining  million wasnt enough\"]\n",
    "demo = gr.Interface(fn=checkhealth, inputs=\"text\", outputs=\"label\",examples=sample)\n",
    "\n",
    "demo.launch()  "
   ]
  }
 ],
 "metadata": {
  "kernelspec": {
   "display_name": "base",
   "language": "python",
   "name": "python3"
  },
  "language_info": {
   "codemirror_mode": {
    "name": "ipython",
    "version": 3
   },
   "file_extension": ".py",
   "mimetype": "text/x-python",
   "name": "python",
   "nbconvert_exporter": "python",
   "pygments_lexer": "ipython3",
   "version": "3.9.12"
  },
  "orig_nbformat": 4
 },
 "nbformat": 4,
 "nbformat_minor": 2
}
